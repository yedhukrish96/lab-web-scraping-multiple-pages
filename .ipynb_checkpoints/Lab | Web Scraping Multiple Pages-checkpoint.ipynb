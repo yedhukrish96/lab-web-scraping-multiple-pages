{
 "cells": [
  {
   "cell_type": "code",
   "execution_count": 1,
   "id": "2e5efcf1",
   "metadata": {},
   "outputs": [],
   "source": [
    "from bs4 import BeautifulSoup\n",
    "import requests\n",
    "import pandas as pd"
   ]
  },
  {
   "cell_type": "code",
   "execution_count": 2,
   "id": "e246031a",
   "metadata": {},
   "outputs": [],
   "source": [
    "url = \"https://playback.fm/charts/rock/1992\""
   ]
  },
  {
   "cell_type": "code",
   "execution_count": 3,
   "id": "564d7b97",
   "metadata": {},
   "outputs": [
    {
     "data": {
      "text/plain": [
       "200"
      ]
     },
     "execution_count": 3,
     "metadata": {},
     "output_type": "execute_result"
    }
   ],
   "source": [
    "response = requests.get(url, headers = {\"Accept-Language\": \"en-US\"})\n",
    "response.status_code"
   ]
  },
  {
   "cell_type": "code",
   "execution_count": 4,
   "id": "280a8af6",
   "metadata": {},
   "outputs": [],
   "source": [
    "soup = BeautifulSoup(response.content, \"html.parser\")"
   ]
  },
  {
   "cell_type": "code",
   "execution_count": 98,
   "id": "02ad2b17",
   "metadata": {},
   "outputs": [],
   "source": [
    "#soup"
   ]
  },
  {
   "cell_type": "code",
   "execution_count": 6,
   "id": "c989eb16",
   "metadata": {},
   "outputs": [],
   "source": [
    "#myTable > tbody > tr:nth-child(1) > td:nth-child(2) > a\n",
    "#myTable > tbody > tr:nth-child(2) > td:nth-child(2) > a\n",
    "#myTable > tbody > tr:nth-child(1) > td.mobile-hide > a > span.song"
   ]
  },
  {
   "cell_type": "code",
   "execution_count": null,
   "id": "32c65013",
   "metadata": {},
   "outputs": [],
   "source": [
    "#myTable > tbody > tr:nth-child(1) > td:nth-child(2) > a\n",
    "#myTable > tbody > tr:nth-child(1) > td:nth-child(2) > a"
   ]
  },
  {
   "cell_type": "code",
   "execution_count": null,
   "id": "1ae6d9f5",
   "metadata": {},
   "outputs": [],
   "source": [
    "#myTable > tbody > tr:nth-child(1) > td:nth-child(2) > a"
   ]
  },
  {
   "cell_type": "code",
   "execution_count": null,
   "id": "f80b12d2",
   "metadata": {},
   "outputs": [],
   "source": [
    "#myTable > tbody > tr:nth-child(1) > td.mobile-hide > a > span.song"
   ]
  },
  {
   "cell_type": "code",
   "execution_count": 99,
   "id": "ee3154b8",
   "metadata": {},
   "outputs": [],
   "source": [
    "#soup.select(\"td a\")"
   ]
  },
  {
   "cell_type": "code",
   "execution_count": 100,
   "id": "72dd2c5a",
   "metadata": {},
   "outputs": [],
   "source": [
    "#soup.select(\".artist\")"
   ]
  },
  {
   "cell_type": "code",
   "execution_count": 101,
   "id": "569c078e",
   "metadata": {},
   "outputs": [],
   "source": [
    "#soup.select(\"td.mobile-hide > a > span.song\")"
   ]
  },
  {
   "cell_type": "code",
   "execution_count": 30,
   "id": "6928fe64",
   "metadata": {},
   "outputs": [
    {
     "data": {
      "text/plain": [
       "<span class=\"mobile-only song\">\n",
       "<a href=\"/charts/rock/video/1992/peter-gabriel-steam\" itemprop=\"name\">\n",
       "Steam\n",
       "</a>\n",
       "</span>"
      ]
     },
     "execution_count": 30,
     "metadata": {},
     "output_type": "execute_result"
    }
   ],
   "source": [
    "soup.select(\".song\")[0]"
   ]
  },
  {
   "cell_type": "code",
   "execution_count": 28,
   "id": "26389d32",
   "metadata": {},
   "outputs": [
    {
     "name": "stdout",
     "output_type": "stream",
     "text": [
      "['Peter Gabriel', 'Duran Duran', 'R.E.M.', 'The Black Crowes', 'R.E.M.', 'The Cure', 'U2', 'U2', 'Peter Gabriel', 'Talking Heads', 'The Cure', 'Van Halen', 'Red Hot Chili Peppers', 'Bad Company', 'The Black Crowes', 'The Sugarcubes', 'Genesis', 'Ozzy Osbourne', 'Rush', 'Def Leppard', 'Bruce Springsteen', \"The B-52's\", 'Stevie Ray Vaughan and Double Trouble', 'Def Leppard', 'Morrissey', 'R.E.M.', 'The Black Crowes', 'Tasmin Archer', 'Soul Asylum', 'Extreme', 'Bon Jovi', \"Ned's Atomic Dustbin\", 'Enya', 'The Ocean Blue', 'Faith No More', 'David Byrne', 'U2', 'The Church', 'John Mellencamp', 'Cracker', 'Sarah McLachlan', 'Tom Petty and the Heartbreakers', 'INXS', 'Spin Doctors', 'Teenage Fanclub', 'Pearl Jam', 'Paul Westerberg', 'Roger Waters', '10,000 Maniacs', 'Sunscreem', 'The Charlatans', 'John Mellencamp', 'Lou Reed', 'Joe Satriani', 'Nirvana', \"Stereo MC's\", 'The Black Crowes', 'Patty Smyth', 'INXS', 'XTC', 'Sugar', 'The Lemonheads', 'INXS', 'Damn Yankees', 'Foreigner', 'Arc Angels', 'Eric Clapton', 'Ozzy Osbourne', 'Arc Angels', 'Izzy Stradlin and the Ju Ju Hounds', 'Dramarama', 'Bryan Adams', 'Jude Cole', 'Moodswings', 'Ramones', 'Material Issue', 'Suzanne Vega', 'Ian McCulloch', 'Arc Angel', 'Bruce Springsteen', 'Lloyd Cole', 'Pearl Jam', 'Bruce Springsteen', 'Queensryche', 'Neneh Cherry', 'Tesla', 'Van Halen', 'Ugly Kid Joe', 'Neil Young', 'Pearl Jam', 'Joe Cocker', 'Temple of the Dog', 'Red Hot Chili Peppers', 'Happyhead', 'Dr. Alban', 'Tom Cochrane', 'Social Distortion', 'Siouxsie and the Banshees', 'Morrissey', 'U2']\n"
     ]
    }
   ],
   "source": [
    "#title = []\n",
    "artist = []\n",
    "\n",
    "\n",
    "\n",
    "# define the number of iterations of our for loop\n",
    "# by checking how many elements are in the retrieved result set\n",
    "# (this is equivalent but more robust than just explicitly defining 250 iterations)\n",
    "#title_info = len(soup.select(\"td.mobile-hide > a > span.song\")\n",
    "artist_info = len(soup.select(\".artist\"))\n",
    "\n",
    "#tlist = soup.select(\"name\")\n",
    "alist = soup.select(\".artist\")\n",
    "# iterate through the result set and retrive all the data\n",
    "for i in range(artist_info):\n",
    "    artist.append(alist[i].get_text().strip())\n",
    "   \n",
    "                  \n",
    "print(artist)\n"
   ]
  },
  {
   "cell_type": "code",
   "execution_count": 102,
   "id": "47367182",
   "metadata": {},
   "outputs": [],
   "source": [
    "tlist2= soup.select(\".song a\")\n",
    "#tlist2"
   ]
  },
  {
   "cell_type": "code",
   "execution_count": 67,
   "id": "ef9ae4af",
   "metadata": {},
   "outputs": [
    {
     "data": {
      "text/plain": [
       "'Ordinary World'"
      ]
     },
     "execution_count": 67,
     "metadata": {},
     "output_type": "execute_result"
    }
   ],
   "source": [
    "tlist[].get_text().strip()"
   ]
  },
  {
   "cell_type": "code",
   "execution_count": 70,
   "id": "acf5a20b",
   "metadata": {},
   "outputs": [
    {
     "name": "stdout",
     "output_type": "stream",
     "text": [
      "['Steam', 'Ordinary World', 'Man on the Moon', 'Remedy', 'Drive', \"Friday I'm in Love\", 'One', 'Even Better Than the Real Thing', 'Digging in the Dirt', 'Sax And Violins', 'High', 'Right Now', 'Under the Bridge', 'How About That', 'Hotel Illness', 'Hit', \"I Can't Dance\", \"Mama, I'm Coming Home\", 'Ghost Of A Chance', 'Stand Up (Kick Love into Motion)', 'Human Touch', 'Good Stuff', 'The Sky Is Crying', \"Let's Get Rocked\", 'Tomorrow', 'Ignoreland', 'Thorn in My Pride', 'Sleeping Satellite', 'Somebody to Sh**e', 'Rest in Peace', 'Keep the Faith', 'Not Sleeping Around', 'Caribbean Blue', 'Ballerina Out Of Control', 'Midlife Crisis', \"She's Mad\", \"Who's Gonna Ride Your Wild Horses\", 'Ripple', 'Again Tonight', 'Teen Angst (What the World Needs Now)', 'Into The Fire', 'Kings Highway', 'Not Enough Time', \"Little Miss Can't Be Wrong\", 'Star Sign', 'Black', 'Dyslexic Heart', 'What God Wants, Part I', 'These Are Days', 'Love U More', 'Weirdo', 'Love And Happiness', \"What's Good\", 'Summer Song', 'Come As You Are', 'Connected', 'Sting Me', \"Sometimes Love Just Ain't Enough\", 'Heaven Sent', 'The Ballad of Peter Pumpkinhead', 'Helpless', \"It's A Shame About Ray\", 'Taste It', \"Don't Tread On Me\", 'Soul Doctor', 'Living In A Dream', 'Help Me Up', 'Time After Time', 'Sent By Angels', 'Shuffle It All', \"Haven't Got A Clue\", 'There Will Never Be Another Tonight', 'Start The Car', 'Spiritual High (State Of Independence) Part II', 'Poison Heart', 'What Girls Want', 'Blood Makes Noise', 'Honeydrip', 'Too Many Ways to Fall', \"57 Channels (And Nothin' On)\", 'Tell Your Sister', 'Jeremy', 'Roll Of The Dice', 'Another Rainy Night (Without You)', 'Trout', 'What You Give', 'The Dream Is Over', 'Everything About You', 'War Of Man', 'Even Flow', 'Love Is Alive', 'Hunger Strike', 'Behind The Sun', 'Fabulous', \"It's My Life\", 'No Regrets', 'Bad Luck', 'Face To Face', 'We Hate It When Our Friends Become Successful', 'Until the End of the World']\n"
     ]
    }
   ],
   "source": [
    "# title = []\n",
    "\n",
    "# title_info = len(soup.select(\"td.mobile-hide > a > span.song\"))\n",
    "                 \n",
    "# tlist = soup.select(\".song\")\n",
    "\n",
    "# for i in range(title_info):\n",
    "#     title.append(tlist[i].get_text().strip())\n",
    "   \n",
    "                  \n",
    "# print(title)\n",
    "\n",
    "title = []\n",
    "\n",
    "title_info = len(soup.select(\"td.mobile-hide > a > span.song\"))\n",
    "                 \n",
    "tlist = soup.select(\".song a\")\n",
    "\n",
    "for i in range(title_info):\n",
    "    title.append(tlist[i].get_text().strip())\n",
    "   \n",
    "                  \n",
    "print(title)"
   ]
  },
  {
   "cell_type": "code",
   "execution_count": 71,
   "id": "1ac818e3",
   "metadata": {},
   "outputs": [],
   "source": [
    "song_list = pd.DataFrame({\"Artist\": artist,\n",
    "              \"Title\": title})"
   ]
  },
  {
   "cell_type": "code",
   "execution_count": 72,
   "id": "67e28304",
   "metadata": {},
   "outputs": [
    {
     "data": {
      "text/html": [
       "<div>\n",
       "<style scoped>\n",
       "    .dataframe tbody tr th:only-of-type {\n",
       "        vertical-align: middle;\n",
       "    }\n",
       "\n",
       "    .dataframe tbody tr th {\n",
       "        vertical-align: top;\n",
       "    }\n",
       "\n",
       "    .dataframe thead th {\n",
       "        text-align: right;\n",
       "    }\n",
       "</style>\n",
       "<table border=\"1\" class=\"dataframe\">\n",
       "  <thead>\n",
       "    <tr style=\"text-align: right;\">\n",
       "      <th></th>\n",
       "      <th>Artist</th>\n",
       "      <th>Title</th>\n",
       "    </tr>\n",
       "  </thead>\n",
       "  <tbody>\n",
       "    <tr>\n",
       "      <th>0</th>\n",
       "      <td>Peter Gabriel</td>\n",
       "      <td>Steam</td>\n",
       "    </tr>\n",
       "    <tr>\n",
       "      <th>1</th>\n",
       "      <td>Duran Duran</td>\n",
       "      <td>Ordinary World</td>\n",
       "    </tr>\n",
       "    <tr>\n",
       "      <th>2</th>\n",
       "      <td>R.E.M.</td>\n",
       "      <td>Man on the Moon</td>\n",
       "    </tr>\n",
       "    <tr>\n",
       "      <th>3</th>\n",
       "      <td>The Black Crowes</td>\n",
       "      <td>Remedy</td>\n",
       "    </tr>\n",
       "    <tr>\n",
       "      <th>4</th>\n",
       "      <td>R.E.M.</td>\n",
       "      <td>Drive</td>\n",
       "    </tr>\n",
       "    <tr>\n",
       "      <th>...</th>\n",
       "      <td>...</td>\n",
       "      <td>...</td>\n",
       "    </tr>\n",
       "    <tr>\n",
       "      <th>95</th>\n",
       "      <td>Tom Cochrane</td>\n",
       "      <td>No Regrets</td>\n",
       "    </tr>\n",
       "    <tr>\n",
       "      <th>96</th>\n",
       "      <td>Social Distortion</td>\n",
       "      <td>Bad Luck</td>\n",
       "    </tr>\n",
       "    <tr>\n",
       "      <th>97</th>\n",
       "      <td>Siouxsie and the Banshees</td>\n",
       "      <td>Face To Face</td>\n",
       "    </tr>\n",
       "    <tr>\n",
       "      <th>98</th>\n",
       "      <td>Morrissey</td>\n",
       "      <td>We Hate It When Our Friends Become Successful</td>\n",
       "    </tr>\n",
       "    <tr>\n",
       "      <th>99</th>\n",
       "      <td>U2</td>\n",
       "      <td>Until the End of the World</td>\n",
       "    </tr>\n",
       "  </tbody>\n",
       "</table>\n",
       "<p>100 rows × 2 columns</p>\n",
       "</div>"
      ],
      "text/plain": [
       "                       Artist                                          Title\n",
       "0               Peter Gabriel                                          Steam\n",
       "1                 Duran Duran                                 Ordinary World\n",
       "2                      R.E.M.                                Man on the Moon\n",
       "3            The Black Crowes                                         Remedy\n",
       "4                      R.E.M.                                          Drive\n",
       "..                        ...                                            ...\n",
       "95               Tom Cochrane                                     No Regrets\n",
       "96          Social Distortion                                       Bad Luck\n",
       "97  Siouxsie and the Banshees                                   Face To Face\n",
       "98                  Morrissey  We Hate It When Our Friends Become Successful\n",
       "99                         U2                     Until the End of the World\n",
       "\n",
       "[100 rows x 2 columns]"
      ]
     },
     "execution_count": 72,
     "metadata": {},
     "output_type": "execute_result"
    }
   ],
   "source": [
    "song_list"
   ]
  },
  {
   "cell_type": "code",
   "execution_count": 75,
   "id": "95762e6f",
   "metadata": {},
   "outputs": [
    {
     "name": "stdout",
     "output_type": "stream",
     "text": [
      "Enter a song title: Bad Luck\n",
      "Try listening to 'Under the Bridge' by Red Hot Chili Peppers.\n"
     ]
    }
   ],
   "source": [
    "\n",
    "\n",
    "def song_recommender(song_list, input_song):\n",
    "    if input_song in song_list['Title'].values:\n",
    "        # remove the input song from the list to avoid recommending it\n",
    "        available_songs = song_list[song_list['Title'] != input_song]\n",
    "        # get a random song from the available list\n",
    "        random_song = available_songs.sample(n=1)\n",
    "        print(f\"Try listening to '{random_song.iloc[0]['Title']}' by {random_song.iloc[0]['Artist']}.\")\n",
    "    else:\n",
    "        print(\"Sorry, we don't have any recommendations at this time for that song.\")\n",
    "\n",
    "# ask the user for input song and recommend a random song if it's in the list\n",
    "user_song = input(\"Enter a song title: \")\n",
    "song_recommender(song_list, user_song)"
   ]
  },
  {
   "cell_type": "markdown",
   "id": "afd0bf15",
   "metadata": {},
   "source": [
    "## 2. Create a Python list with the top ten FBI's Most Wanted names: url = 'https://www.fbi.gov/wanted/topten'"
   ]
  },
  {
   "cell_type": "code",
   "execution_count": 76,
   "id": "962cdad6",
   "metadata": {},
   "outputs": [
    {
     "data": {
      "text/plain": [
       "200"
      ]
     },
     "metadata": {},
     "output_type": "display_data"
    }
   ],
   "source": [
    "url = 'https://www.fbi.gov/wanted/topten'\n",
    "response = requests.get(url)\n",
    "soup = BeautifulSoup(response.content, 'html.parser')\n",
    "\n",
    "display(response.status_code)\n",
    "#soup"
   ]
  },
  {
   "cell_type": "code",
   "execution_count": 77,
   "id": "72376cea",
   "metadata": {},
   "outputs": [
    {
     "data": {
      "text/plain": [
       "[<h3 class=\"title\">\n",
       " <a href=\"https://www.fbi.gov/wanted/topten/alejandro-castillo\">ALEJANDRO ROSALES CASTILLO</a>\n",
       " </h3>,\n",
       " <h3 class=\"title\">\n",
       " <a href=\"https://www.fbi.gov/wanted/topten/wilver-villegas-palomino\">WILVER VILLEGAS-PALOMINO</a>\n",
       " </h3>,\n",
       " <h3 class=\"title\">\n",
       " <a href=\"https://www.fbi.gov/wanted/topten/ruja-ignatova\">RUJA IGNATOVA</a>\n",
       " </h3>,\n",
       " <h3 class=\"title\">\n",
       " <a href=\"https://www.fbi.gov/wanted/topten/arnoldo-jimenez\">ARNOLDO JIMENEZ</a>\n",
       " </h3>,\n",
       " <h3 class=\"title\">\n",
       " <a href=\"https://www.fbi.gov/wanted/topten/omar-alexander-cardenas\">OMAR ALEXANDER CARDENAS</a>\n",
       " </h3>,\n",
       " <h3 class=\"title\">\n",
       " <a href=\"https://www.fbi.gov/wanted/topten/alexis-flores\">ALEXIS FLORES</a>\n",
       " </h3>,\n",
       " <h3 class=\"title\">\n",
       " <a href=\"https://www.fbi.gov/wanted/topten/bhadreshkumar-chetanbhai-patel\">BHADRESHKUMAR CHETANBHAI PATEL</a>\n",
       " </h3>,\n",
       " <h3 class=\"title\">\n",
       " <a href=\"https://www.fbi.gov/wanted/topten/yulan-adonay-archaga-carias\">YULAN ADONAY ARCHAGA CARIAS</a>\n",
       " </h3>,\n",
       " <h3 class=\"title\">\n",
       " <a href=\"https://www.fbi.gov/wanted/topten/michael-james-pratt\">MICHAEL JAMES PRATT</a>\n",
       " </h3>,\n",
       " <h3 class=\"title\">\n",
       " <a href=\"https://www.fbi.gov/wanted/topten/jose-rodolfo-villarreal-hernandez\">JOSE RODOLFO VILLARREAL-HERNANDEZ</a>\n",
       " </h3>]"
      ]
     },
     "execution_count": 77,
     "metadata": {},
     "output_type": "execute_result"
    }
   ],
   "source": [
    "#query-results-0f737222c5054a81a120bce207b0446a > ul > li:nth-child(1) > h3 > a\n",
    "soup.select(\"h3\")[0:10]"
   ]
  },
  {
   "cell_type": "code",
   "execution_count": 78,
   "id": "a5465d7a",
   "metadata": {},
   "outputs": [
    {
     "name": "stdout",
     "output_type": "stream",
     "text": [
      "['ALEJANDRO ROSALES CASTILLO', 'WILVER VILLEGAS-PALOMINO', 'RUJA IGNATOVA', 'ARNOLDO JIMENEZ', 'OMAR ALEXANDER CARDENAS', 'ALEXIS FLORES', 'BHADRESHKUMAR CHETANBHAI PATEL', 'YULAN ADONAY ARCHAGA CARIAS', 'MICHAEL JAMES PRATT', 'JOSE RODOLFO VILLARREAL-HERNANDEZ']\n"
     ]
    }
   ],
   "source": [
    "top = []\n",
    "\n",
    "# Iterations\n",
    "num_iter = len(soup.select(\"h3 a\"))\n",
    "\n",
    "top_top = soup.select(\"h3 a\")\n",
    "\n",
    "for i in range(num_iter):\n",
    "    top.append(top_top[i].get_text())\n",
    "    \n",
    "print(top[0:10])"
   ]
  },
  {
   "cell_type": "code",
   "execution_count": 79,
   "id": "12939da1",
   "metadata": {},
   "outputs": [
    {
     "data": {
      "text/plain": [
       "10"
      ]
     },
     "metadata": {},
     "output_type": "display_data"
    }
   ],
   "source": [
    "display(len(top))"
   ]
  },
  {
   "cell_type": "code",
   "execution_count": 80,
   "id": "bd4bb6dd",
   "metadata": {},
   "outputs": [
    {
     "data": {
      "text/html": [
       "<div>\n",
       "<style scoped>\n",
       "    .dataframe tbody tr th:only-of-type {\n",
       "        vertical-align: middle;\n",
       "    }\n",
       "\n",
       "    .dataframe tbody tr th {\n",
       "        vertical-align: top;\n",
       "    }\n",
       "\n",
       "    .dataframe thead th {\n",
       "        text-align: right;\n",
       "    }\n",
       "</style>\n",
       "<table border=\"1\" class=\"dataframe\">\n",
       "  <thead>\n",
       "    <tr style=\"text-align: right;\">\n",
       "      <th></th>\n",
       "      <th>TOP 10</th>\n",
       "    </tr>\n",
       "  </thead>\n",
       "  <tbody>\n",
       "    <tr>\n",
       "      <th>0</th>\n",
       "      <td>ALEJANDRO ROSALES CASTILLO</td>\n",
       "    </tr>\n",
       "    <tr>\n",
       "      <th>1</th>\n",
       "      <td>WILVER VILLEGAS-PALOMINO</td>\n",
       "    </tr>\n",
       "    <tr>\n",
       "      <th>2</th>\n",
       "      <td>RUJA IGNATOVA</td>\n",
       "    </tr>\n",
       "    <tr>\n",
       "      <th>3</th>\n",
       "      <td>ARNOLDO JIMENEZ</td>\n",
       "    </tr>\n",
       "    <tr>\n",
       "      <th>4</th>\n",
       "      <td>OMAR ALEXANDER CARDENAS</td>\n",
       "    </tr>\n",
       "    <tr>\n",
       "      <th>5</th>\n",
       "      <td>ALEXIS FLORES</td>\n",
       "    </tr>\n",
       "    <tr>\n",
       "      <th>6</th>\n",
       "      <td>BHADRESHKUMAR CHETANBHAI PATEL</td>\n",
       "    </tr>\n",
       "    <tr>\n",
       "      <th>7</th>\n",
       "      <td>YULAN ADONAY ARCHAGA CARIAS</td>\n",
       "    </tr>\n",
       "    <tr>\n",
       "      <th>8</th>\n",
       "      <td>MICHAEL JAMES PRATT</td>\n",
       "    </tr>\n",
       "    <tr>\n",
       "      <th>9</th>\n",
       "      <td>JOSE RODOLFO VILLARREAL-HERNANDEZ</td>\n",
       "    </tr>\n",
       "  </tbody>\n",
       "</table>\n",
       "</div>"
      ],
      "text/plain": [
       "                              TOP 10\n",
       "0         ALEJANDRO ROSALES CASTILLO\n",
       "1           WILVER VILLEGAS-PALOMINO\n",
       "2                      RUJA IGNATOVA\n",
       "3                    ARNOLDO JIMENEZ\n",
       "4            OMAR ALEXANDER CARDENAS\n",
       "5                      ALEXIS FLORES\n",
       "6     BHADRESHKUMAR CHETANBHAI PATEL\n",
       "7        YULAN ADONAY ARCHAGA CARIAS\n",
       "8                MICHAEL JAMES PRATT\n",
       "9  JOSE RODOLFO VILLARREAL-HERNANDEZ"
      ]
     },
     "execution_count": 80,
     "metadata": {},
     "output_type": "execute_result"
    }
   ],
   "source": [
    "top_wanted = pd.DataFrame({\"TOP 10\":top})\n",
    "top_wanted"
   ]
  },
  {
   "cell_type": "markdown",
   "id": "3c82f6ba",
   "metadata": {},
   "source": [
    "## 3. A list with the different kind of datasets available in data.gov.uk: url = 'https://data.gov.uk/'"
   ]
  },
  {
   "cell_type": "code",
   "execution_count": 81,
   "id": "9f74af49",
   "metadata": {},
   "outputs": [
    {
     "data": {
      "text/plain": [
       "200"
      ]
     },
     "metadata": {},
     "output_type": "display_data"
    }
   ],
   "source": [
    "url = 'https://www.data.gov.uk/'\n",
    "response = requests.get(url)\n",
    "soup = BeautifulSoup(response.content, 'html.parser')\n",
    "\n",
    "display(response.status_code)\n",
    "#soup"
   ]
  },
  {
   "cell_type": "code",
   "execution_count": 82,
   "id": "2e9b7374",
   "metadata": {},
   "outputs": [
    {
     "data": {
      "text/plain": [
       "[<a class=\"govuk-link\" href=\"/search?filters%5Btopic%5D=Business+and+economy\">Business and economy</a>,\n",
       " <a class=\"govuk-link\" href=\"/search?filters%5Btopic%5D=Crime+and+justice\">Crime and justice</a>,\n",
       " <a class=\"govuk-link\" href=\"/search?filters%5Btopic%5D=Defence\">Defence</a>,\n",
       " <a class=\"govuk-link\" href=\"/search?filters%5Btopic%5D=Education\">Education</a>,\n",
       " <a class=\"govuk-link\" href=\"/search?filters%5Btopic%5D=Environment\">Environment</a>,\n",
       " <a class=\"govuk-link\" href=\"/search?filters%5Btopic%5D=Government\">Government</a>,\n",
       " <a class=\"govuk-link\" href=\"/search?filters%5Btopic%5D=Government+spending\">Government spending</a>,\n",
       " <a class=\"govuk-link\" href=\"/search?filters%5Btopic%5D=Health\">Health</a>,\n",
       " <a class=\"govuk-link\" href=\"/search?filters%5Btopic%5D=Mapping\">Mapping</a>,\n",
       " <a class=\"govuk-link\" href=\"/search?filters%5Btopic%5D=Society\">Society</a>,\n",
       " <a class=\"govuk-link\" href=\"/search?filters%5Btopic%5D=Towns+and+cities\">Towns and cities</a>,\n",
       " <a class=\"govuk-link\" href=\"/search?filters%5Btopic%5D=Transport\">Transport</a>,\n",
       " <a class=\"govuk-link\" href=\"/search?filters%5Btopic%5D=Digital+service+performance\">Digital service performance</a>,\n",
       " <a class=\"govuk-link\" href=\"/search?filters%5Btopic%5D=Government+reference+data\">Government reference data</a>]"
      ]
     },
     "execution_count": 82,
     "metadata": {},
     "output_type": "execute_result"
    }
   ],
   "source": [
    "soup.select(\" h3 > a\")"
   ]
  },
  {
   "cell_type": "code",
   "execution_count": 83,
   "id": "69d3d85e",
   "metadata": {},
   "outputs": [
    {
     "name": "stdout",
     "output_type": "stream",
     "text": [
      "['Business and economy', 'Crime and justice', 'Defence', 'Education', 'Environment', 'Government', 'Government spending', 'Health', 'Mapping', 'Society', 'Towns and cities', 'Transport', 'Digital service performance', 'Government reference data']\n"
     ]
    }
   ],
   "source": [
    "datasets = []\n",
    "\n",
    "# Iterations\n",
    "num_iter = len(soup.select(\"h3 > a\"))\n",
    "\n",
    "data = soup.select(\"h3 > a\")\n",
    "\n",
    "\n",
    "for i in range(num_iter):\n",
    "    datasets.append(data[i].get_text())\n",
    "    \n",
    "    \n",
    "print(datasets[0:20])"
   ]
  },
  {
   "cell_type": "code",
   "execution_count": 84,
   "id": "df60e015",
   "metadata": {},
   "outputs": [
    {
     "data": {
      "text/html": [
       "<div>\n",
       "<style scoped>\n",
       "    .dataframe tbody tr th:only-of-type {\n",
       "        vertical-align: middle;\n",
       "    }\n",
       "\n",
       "    .dataframe tbody tr th {\n",
       "        vertical-align: top;\n",
       "    }\n",
       "\n",
       "    .dataframe thead th {\n",
       "        text-align: right;\n",
       "    }\n",
       "</style>\n",
       "<table border=\"1\" class=\"dataframe\">\n",
       "  <thead>\n",
       "    <tr style=\"text-align: right;\">\n",
       "      <th></th>\n",
       "      <th>datasets</th>\n",
       "    </tr>\n",
       "  </thead>\n",
       "  <tbody>\n",
       "    <tr>\n",
       "      <th>0</th>\n",
       "      <td>Business and economy</td>\n",
       "    </tr>\n",
       "    <tr>\n",
       "      <th>1</th>\n",
       "      <td>Crime and justice</td>\n",
       "    </tr>\n",
       "    <tr>\n",
       "      <th>2</th>\n",
       "      <td>Defence</td>\n",
       "    </tr>\n",
       "    <tr>\n",
       "      <th>3</th>\n",
       "      <td>Education</td>\n",
       "    </tr>\n",
       "    <tr>\n",
       "      <th>4</th>\n",
       "      <td>Environment</td>\n",
       "    </tr>\n",
       "    <tr>\n",
       "      <th>5</th>\n",
       "      <td>Government</td>\n",
       "    </tr>\n",
       "    <tr>\n",
       "      <th>6</th>\n",
       "      <td>Government spending</td>\n",
       "    </tr>\n",
       "    <tr>\n",
       "      <th>7</th>\n",
       "      <td>Health</td>\n",
       "    </tr>\n",
       "    <tr>\n",
       "      <th>8</th>\n",
       "      <td>Mapping</td>\n",
       "    </tr>\n",
       "    <tr>\n",
       "      <th>9</th>\n",
       "      <td>Society</td>\n",
       "    </tr>\n",
       "    <tr>\n",
       "      <th>10</th>\n",
       "      <td>Towns and cities</td>\n",
       "    </tr>\n",
       "    <tr>\n",
       "      <th>11</th>\n",
       "      <td>Transport</td>\n",
       "    </tr>\n",
       "    <tr>\n",
       "      <th>12</th>\n",
       "      <td>Digital service performance</td>\n",
       "    </tr>\n",
       "    <tr>\n",
       "      <th>13</th>\n",
       "      <td>Government reference data</td>\n",
       "    </tr>\n",
       "  </tbody>\n",
       "</table>\n",
       "</div>"
      ],
      "text/plain": [
       "                       datasets\n",
       "0          Business and economy\n",
       "1             Crime and justice\n",
       "2                       Defence\n",
       "3                     Education\n",
       "4                   Environment\n",
       "5                    Government\n",
       "6           Government spending\n",
       "7                        Health\n",
       "8                       Mapping\n",
       "9                       Society\n",
       "10             Towns and cities\n",
       "11                    Transport\n",
       "12  Digital service performance\n",
       "13    Government reference data"
      ]
     },
     "execution_count": 84,
     "metadata": {},
     "output_type": "execute_result"
    }
   ],
   "source": [
    "dataset_uk = pd.DataFrame({\"datasets\":datasets})\n",
    "dataset_uk"
   ]
  },
  {
   "cell_type": "markdown",
   "id": "5281cea7",
   "metadata": {},
   "source": [
    "## Display the 20 latest earthquakes info (date, time, latitude, longitude and region name) by the EMSC as a pandas dataframe: url = 'https://www.emsc-csem.org/Earthquake/'"
   ]
  },
  {
   "cell_type": "code",
   "execution_count": 89,
   "id": "a78a4501",
   "metadata": {},
   "outputs": [
    {
     "data": {
      "text/plain": [
       "200"
      ]
     },
     "metadata": {},
     "output_type": "display_data"
    }
   ],
   "source": [
    "url = 'https://www.emsc-csem.org/Earthquake/'\n",
    "response = requests.get(url)\n",
    "soup = BeautifulSoup(response.content, 'html.parser')\n",
    "\n",
    "display(response.status_code)\n",
    "#soup"
   ]
  },
  {
   "cell_type": "code",
   "execution_count": null,
   "id": "4cc700b3",
   "metadata": {},
   "outputs": [],
   "source": [
    "# link --> #\\31 242674 > td.tabev6 > b > a"
   ]
  },
  {
   "cell_type": "code",
   "execution_count": 90,
   "id": "500f8bf4",
   "metadata": {},
   "outputs": [
    {
     "data": {
      "text/plain": [
       "[<a href=\"/Earthquake/earthquake.php?id=1250643\">2023-04-16   15:38:30.0</a>,\n",
       " <a href=\"/Earthquake/earthquake.php?id=1250641\">2023-04-16   15:33:49.8</a>,\n",
       " <a href=\"/Earthquake/earthquake.php?id=1250640\">2023-04-16   15:31:41.0</a>,\n",
       " <a href=\"/Earthquake/earthquake.php?id=1250642\">2023-04-16   15:23:27.4</a>,\n",
       " <a href=\"/Earthquake/earthquake.php?id=1250638\">2023-04-16   15:14:47.6</a>]"
      ]
     },
     "execution_count": 90,
     "metadata": {},
     "output_type": "execute_result"
    }
   ],
   "source": [
    "prestab=soup.select(\"b a\")\n",
    "prestab[0:5]"
   ]
  },
  {
   "cell_type": "code",
   "execution_count": 91,
   "id": "4d638b99",
   "metadata": {},
   "outputs": [
    {
     "name": "stdout",
     "output_type": "stream",
     "text": [
      "/Earthquake/earthquake.php?id=1250643\n",
      "/Earthquake/earthquake.php?id=1250641\n",
      "/Earthquake/earthquake.php?id=1250640\n",
      "/Earthquake/earthquake.php?id=1250642\n",
      "/Earthquake/earthquake.php?id=1250638\n",
      "/Earthquake/earthquake.php?id=1250639\n",
      "/Earthquake/earthquake.php?id=1250635\n",
      "/Earthquake/earthquake.php?id=1250628\n",
      "/Earthquake/earthquake.php?id=1250627\n",
      "/Earthquake/earthquake.php?id=1250633\n",
      "/Earthquake/earthquake.php?id=1250626\n",
      "/Earthquake/earthquake.php?id=1250621\n",
      "/Earthquake/earthquake.php?id=1250619\n",
      "/Earthquake/earthquake.php?id=1250624\n",
      "/Earthquake/earthquake.php?id=1250622\n",
      "/Earthquake/earthquake.php?id=1250620\n",
      "/Earthquake/earthquake.php?id=1250607\n",
      "/Earthquake/earthquake.php?id=1250608\n",
      "/Earthquake/earthquake.php?id=1250602\n",
      "/Earthquake/earthquake.php?id=1250600\n",
      "/Earthquake/earthquake.php?id=1250605\n"
     ]
    }
   ],
   "source": [
    "# Getting links for the 20 most recent earthquakes\n",
    "earthquake = []\n",
    "\n",
    "for quake in prestab:\n",
    "    link = quake.get(\"href\")\n",
    "    print(link)\n",
    "    if(len(earthquake)<20):\n",
    "        if link is not None:\n",
    "            if ((\"/Earthquake\" in link) & (\"earthquake\" in link)):\n",
    "                earthquake.append(quake[\"href\"])\n",
    "    else:\n",
    "        break\n",
    "            "
   ]
  },
  {
   "cell_type": "code",
   "execution_count": 92,
   "id": "34fefc28",
   "metadata": {},
   "outputs": [
    {
     "data": {
      "text/plain": [
       "20"
      ]
     },
     "metadata": {},
     "output_type": "display_data"
    }
   ],
   "source": [
    "display(len(earthquake))"
   ]
  },
  {
   "cell_type": "code",
   "execution_count": 93,
   "id": "e2019fc8",
   "metadata": {},
   "outputs": [
    {
     "name": "stdout",
     "output_type": "stream",
     "text": [
      "200\n"
     ]
    }
   ],
   "source": [
    "# Creating full URL for each earthquake and sending requests\n",
    "url = \"https://www.emsc-csem.org\" + earthquake[0]\n",
    "response = requests.get(url)\n",
    "print(response.status_code)"
   ]
  },
  {
   "cell_type": "code",
   "execution_count": 94,
   "id": "c2557a9b",
   "metadata": {},
   "outputs": [],
   "source": [
    "# Parse & store html\n",
    "soup = BeautifulSoup(response.content, \"html.parser\")\n",
    "#soup.select(\"table\")"
   ]
  },
  {
   "cell_type": "code",
   "execution_count": 97,
   "id": "c74d7071",
   "metadata": {},
   "outputs": [
    {
     "name": "stdout",
     "output_type": "stream",
     "text": [
      "/Earthquake/earthquake.php?id=1250643 200\n",
      "I will sleep for 3 second/s.\n",
      "/Earthquake/earthquake.php?id=1250641 200\n",
      "I will sleep for 2 second/s.\n",
      "/Earthquake/earthquake.php?id=1250640 200\n",
      "I will sleep for 3 second/s.\n",
      "/Earthquake/earthquake.php?id=1250642 200\n",
      "I will sleep for 1 second/s.\n",
      "/Earthquake/earthquake.php?id=1250638 200\n",
      "I will sleep for 2 second/s.\n",
      "/Earthquake/earthquake.php?id=1250639 200\n",
      "I will sleep for 2 second/s.\n",
      "/Earthquake/earthquake.php?id=1250635 200\n",
      "I will sleep for 4 second/s.\n",
      "/Earthquake/earthquake.php?id=1250628 200\n",
      "I will sleep for 1 second/s.\n",
      "/Earthquake/earthquake.php?id=1250627 200\n",
      "I will sleep for 4 second/s.\n",
      "/Earthquake/earthquake.php?id=1250633 200\n",
      "I will sleep for 1 second/s.\n",
      "/Earthquake/earthquake.php?id=1250626 200\n",
      "I will sleep for 2 second/s.\n",
      "/Earthquake/earthquake.php?id=1250621 200\n",
      "I will sleep for 1 second/s.\n",
      "/Earthquake/earthquake.php?id=1250619 200\n",
      "I will sleep for 4 second/s.\n",
      "/Earthquake/earthquake.php?id=1250624 200\n",
      "I will sleep for 3 second/s.\n",
      "/Earthquake/earthquake.php?id=1250622 200\n",
      "I will sleep for 2 second/s.\n",
      "/Earthquake/earthquake.php?id=1250620 200\n",
      "I will sleep for 4 second/s.\n",
      "/Earthquake/earthquake.php?id=1250607 200\n",
      "I will sleep for 4 second/s.\n",
      "/Earthquake/earthquake.php?id=1250608 200\n",
      "I will sleep for 1 second/s.\n",
      "/Earthquake/earthquake.php?id=1250602 200\n",
      "I will sleep for 3 second/s.\n",
      "/Earthquake/earthquake.php?id=1250600 200\n",
      "I will sleep for 1 second/s.\n"
     ]
    }
   ],
   "source": [
    "from random import randint\n",
    "import random\n",
    "from time import sleep\n",
    "\n",
    "\n",
    "#Links for latest 20 earthquake --> earthquakes\n",
    "\n",
    "# 2. Finding url and store it in a variable\n",
    "quake_soups = []\n",
    "\n",
    "for quake in earthquake:\n",
    "    # send request\n",
    "    url =  \"https://www.emsc-csem.org\" + quake\n",
    "    response = requests.get(url)\n",
    "    print(quake, response.status_code)\n",
    "\n",
    "    # parse & store html\n",
    "    soup = BeautifulSoup(response.content, \"html.parser\")\n",
    "    quake_soups.append(soup.select(\"table\"))\n",
    "\n",
    "    # respectful nap:\n",
    "    wait_time = random.randint(1,4)\n",
    "    print(\"I will sleep for \" + str(wait_time) + \" second/s.\")\n",
    "    sleep(wait_time)"
   ]
  },
  {
   "cell_type": "code",
   "execution_count": 104,
   "id": "b2bf9c61",
   "metadata": {},
   "outputs": [],
   "source": [
    "#quake_soups"
   ]
  },
  {
   "cell_type": "code",
   "execution_count": 105,
   "id": "3254a079",
   "metadata": {},
   "outputs": [],
   "source": [
    "# Get date, time, latitude, longitude and region name AND MAGNITUDE...\n",
    "\n",
    "# magnitude --> #ong1 > table:nth-child(1) > tbody > tr > td:nth-child(1) > table > tbody > tr:nth-child(1) > td.point2\n",
    "# region --> #ong1 > table:nth-child(1) > tbody > tr > td:nth-child(1) > table > tbody > tr:nth-child(2) > td.point2\n",
    "# date & time --> #ong1 > table:nth-child(1) > tbody > tr > td:nth-child(1) > table > tbody > tr:nth-child(3) > td.point2\n",
    "# location --> #ong1 > table:nth-child(1) > tbody > tr > td:nth-child(1) > table > tbody > tr:nth-child(5) > td.point2"
   ]
  },
  {
   "cell_type": "code",
   "execution_count": 106,
   "id": "fd465e91",
   "metadata": {},
   "outputs": [
    {
     "data": {
      "text/plain": [
       "[]"
      ]
     },
     "execution_count": 106,
     "metadata": {},
     "output_type": "execute_result"
    }
   ],
   "source": [
    "quake_soups[-1][0].select(\"td.point2\")"
   ]
  },
  {
   "cell_type": "code",
   "execution_count": null,
   "id": "d710e973",
   "metadata": {},
   "outputs": [],
   "source": []
  }
 ],
 "metadata": {
  "kernelspec": {
   "display_name": "Python 3 (ipykernel)",
   "language": "python",
   "name": "python3"
  },
  "language_info": {
   "codemirror_mode": {
    "name": "ipython",
    "version": 3
   },
   "file_extension": ".py",
   "mimetype": "text/x-python",
   "name": "python",
   "nbconvert_exporter": "python",
   "pygments_lexer": "ipython3",
   "version": "3.9.13"
  }
 },
 "nbformat": 4,
 "nbformat_minor": 5
}
